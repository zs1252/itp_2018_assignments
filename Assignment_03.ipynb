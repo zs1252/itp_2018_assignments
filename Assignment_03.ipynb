{
 "cells": [
  {
   "cell_type": "markdown",
   "metadata": {},
   "source": [
    "# Introduction to Programming (Fall 2018)\n",
    "\n",
    "## Assignment 3 (Due date: 18 Nov 2018, by midnight)"
   ]
  },
  {
   "cell_type": "markdown",
   "metadata": {},
   "source": [
    "### Question 1\n",
    "\n",
    "#### String Handling\n",
    "#### 1.1) \n",
    "Complete the following function which checks whether a DNA sequence is valid. A valid DNA sequence will only contain **'A,a,C,c,G,g,T,t'** characters for this question. If the sequence is valid return **True**, otherwise return **False**.\n",
    "\n",
    "*When running the block, the assert statements will raise errors if your program does not return the correct response.*\n"
   ]
  },
  {
   "cell_type": "code",
   "execution_count": 3,
   "metadata": {},
   "outputs": [],
   "source": [
    "import re\n",
    "def validity_check(sequence):\n",
    "    pattern='[AaCcGgTt]'\n",
    "    test=re.findall(pattern,sequence)\n",
    "    if len(test)==len(sequence):\n",
    "        return True\n",
    "    else:\n",
    "        return False\n",
    "assert validity_check('ACGT') == True, 'validity_check(\"ACGT\") returns False, should return True'\n",
    "assert validity_check('acgt') == True, 'validity_check(\"acgt\") returns False, should return True'\n",
    "assert validity_check('AGUC') == False, 'validity_check(\"AGUC\") returns True, should return False'\n",
    "assert validity_check('PPPP') == False, 'validity_check(\"PPPP\") returns True, should return False'"
   ]
  },
  {
   "cell_type": "markdown",
   "metadata": {},
   "source": [
    "#### 1.2)\n",
    "Complete the following function which will return the reverse complement of a DNA sequence.\n",
    "\n",
    "The reverse complement is calculated by reversing the sequence and substituting: \n",
    "+ 'A' with 'T'\n",
    "+ 'T' with 'A'\n",
    "+ 'G' with 'C'\n",
    "+ 'C' with 'G'\n",
    "\n",
    "EG:\n",
    "```\n",
    "reverse_complement('AATC')\n",
    "\n",
    "step 1 - reverse the sequence:\n",
    "    reverse = 'CTAA'\n",
    "    \n",
    "step 2 - replace the characters with their complement:\n",
    "    'C' -> 'G'\n",
    "    'T' -> 'A'\n",
    "    'A' -> 'T'\n",
    "    'A' -> 'T'\n",
    "    \n",
    "    complement = 'GATT' \n",
    "```\n",
    "\n",
    "*When running the block, the assert statements will raise errors if your program does not return the correct response.*"
   ]
  },
  {
   "cell_type": "code",
   "execution_count": 4,
   "metadata": {},
   "outputs": [],
   "source": [
    "def reverse_complement(sequence):\n",
    "    r=sequence[::-1]\n",
    "    r=r.replace('A','1')\n",
    "    r=r.replace('T','2')\n",
    "    r=r.replace('C','3')\n",
    "    r=r.replace('G','4')\n",
    "    r=r.replace('a','5')\n",
    "    r=r.replace('t','6')\n",
    "    r=r.replace('c','7')\n",
    "    r=r.replace('g','8')\n",
    "    r=r.replace('1','T')\n",
    "    r=r.replace('2','A')\n",
    "    r=r.replace('3','G')\n",
    "    r=r.replace('4','C')\n",
    "    r=r.replace('5','t')\n",
    "    r=r.replace('6','a')\n",
    "    r=r.replace('7','g')\n",
    "    r=r.replace('8','c')\n",
    "    return r\n",
    "\n",
    "#ADD CODE HERE\n",
    "\n",
    "assert reverse_complement('AAGCT') == 'AGCTT', 'reverse_complement(\"AAGCT\") should return \"AGCTT\"'\n",
    "assert reverse_complement('tggca') in ['tgcca','TGCCA'], 'reverse_complement(\"tggca\") should return \"tgcca\"'"
   ]
  },
  {
   "cell_type": "markdown",
   "metadata": {},
   "source": [
    "#### 1.3)\n",
    "\n",
    "Write a script which will allow a user to input multiple DNA sequences one at a time. You do not know how many in advance and should take this into account. Your code will then check if the sequence is valid and return the reverse complement if it is. If the sequence is not valid, print an error message alerting the user to this.\n",
    "\n",
    "It would be a good idea to use the functions you created in 1.1 and 1.2\n",
    "\n",
    "```\n",
    "PSEUDOCODE:\n",
    "loop until '' is entered:\n",
    "    prompt user for a new seq\n",
    "    if seq is valid:\n",
    "        output reverse complement\n",
    "    else\n",
    "        output error message indicating that sequence was invalid\n",
    "```"
   ]
  },
  {
   "cell_type": "code",
   "execution_count": 48,
   "metadata": {},
   "outputs": [
    {
     "name": "stdout",
     "output_type": "stream",
     "text": [
      "input your sequence: ATT\n",
      "AAT\n"
     ]
    }
   ],
   "source": [
    "    seq = input('input your sequence: ')\n",
    "    if validity_check(seq):\n",
    "        print(reverse_complement(seq))\n",
    "    else:\n",
    "        print('sequence was invalid')\n",
    "   "
   ]
  },
  {
   "cell_type": "markdown",
   "metadata": {},
   "source": [
    "### Question 2\n",
    "\n",
    "In cryptography there are many ways to code messages. An easy method is to shift the alphabet by a given amount, this is known as a Caesar Cipher http://practicalcryptography.com/ciphers/caesar-cipher/.\n",
    "\n",
    "EG:\n",
    "\n",
    "Shift|A|B|C|D|E|F|G|H|I|J|K|L|M|N|O|P|Q|R|S|T|U|V|W|X|Y|Z|\n",
    "-|-|-|-|-|-|-|-|-|-|-|-|-|-|-|-|-|-|-|-|-|-|-|-|-|-|-|\n",
    "1|B|C|D|E|F|G|H|I|J|K|L|M|N|O|P|Q|R|S|T|U|V|W|X|Y|Z|A|\n",
    "2|C|D|E|F|G|H|I|J|K|L|M|N|O|P|Q|R|S|T|U|V|W|X|Y|Z|A|B|\n",
    "10|K|L|M|N|O|P|Q|R|S|T|U|V|W|X|Y|Z|A|B|C|D|E|F|G|H|I|J|\n",
    "\n",
    "In the case of using an alphabet which has been shifted by 1, 'A' will be replaced with 'B', 'B' will be replaced with 'C', ..., 'Z' is replaced with 'A'.\n",
    "\n",
    "#### 2.1)\n",
    "Complete the following function which takes a string and an integer which represents the shift and returns an encoded string."
   ]
  },
  {
   "cell_type": "code",
   "execution_count": 46,
   "metadata": {},
   "outputs": [],
   "source": [
    "def encode_string(message, shift=5):\n",
    "    m = ''\n",
    "    for i in message:\n",
    "        num = ord(i) + shift\n",
    "        if num > 90:\n",
    "            num = num -26\n",
    "        m = m+chr(num)\n",
    "    return m\n",
    "assert encode_string('ABCD', 1) == 'BCDE', \"encode_string('ABCD', 1) should return 'BCDE'\"\n",
    "assert encode_string('FOOBAR', 3) == 'IRREDU', \"encode_string('FOOBAR', 3) should return 'IRREDU'\"\n",
    "assert encode_string('XYZ') == 'CDE', \"encode_string('XYZ', 3) should return 'CDE'\""
   ]
  },
  {
   "cell_type": "markdown",
   "metadata": {},
   "source": [
    "#### 2.2)\n",
    "\n",
    "Complete the following function which takes a string and an integer which represents the shift and returns the decoded message"
   ]
  },
  {
   "cell_type": "code",
   "execution_count": 47,
   "metadata": {},
   "outputs": [],
   "source": [
    "def decode_string(message, shift=5):\n",
    "    m = ''\n",
    "    for i in message:\n",
    "        num = ord(i) - shift\n",
    "        if num < 65:\n",
    "            num = num + 26\n",
    "        m = m+ chr(num)\n",
    "    return m\n",
    "\n",
    "assert decode_string('MNO', 10) == 'CDE', \"decode_string('MNO', 10) should return 'CDE'\"\n",
    "assert decode_string('PYTHON') == 'KTOCJI', \"decode_string('PYTHON') should return 'KTOCJI'\"\n",
    "\n",
    "assert decode_string(encode_string('ABCD', 1), 1) == 'ABCD', \"decode_string(encode_string('ABCD', 1), 1) should return 'ABCD'\"\n",
    "assert decode_string(encode_string('FOOBAR', 3), 3) == 'FOOBAR', \"decode_string(encode_string('FOOBAR', 3), 3) should return 'FOOBAR'\"\n",
    "assert decode_string(encode_string('XYZ')) == 'XYZ', \"decode_string(encode_string('XYZ')) should return 'XYZ'\""
   ]
  },
  {
   "cell_type": "markdown",
   "metadata": {},
   "source": [
    "### Question 3\n",
    "\n",
    "Write code which will reproduce each of the following patterns given an input size N\n",
    "\n",
    "Example:\n",
    "\n",
    "```\n",
    "N = 10\n",
    "\n",
    " x x x x x x x x x x\n",
    " x o x o x o x o x o\n",
    " x x x x x x x x x x\n",
    " x o x o x o x o x o\n",
    " x x x x x x x x x x\n",
    " x o x o x o x o x o\n",
    " x x x x x x x x x x\n",
    " x o x o x o x o x o\n",
    " x x x x x x x x x x\n",
    " x o x o x o x o x o\n",
    "\n",
    "```"
   ]
  },
  {
   "cell_type": "code",
   "execution_count": 42,
   "metadata": {},
   "outputs": [
    {
     "name": "stdout",
     "output_type": "stream",
     "text": [
      " x x x x x x x x x x\n",
      " x o x o x o x o x o\n",
      " x x x x x x x x x x\n",
      " x o x o x o x o x o\n",
      " x x x x x x x x x x\n",
      " x o x o x o x o x o\n",
      " x x x x x x x x x x\n",
      " x o x o x o x o x o\n",
      " x x x x x x x x x x\n",
      " x o x o x o x o x o\n"
     ]
    }
   ],
   "source": [
    "N = 10\n",
    "pattern = [[' o' for x in range(N)] for y in range(N)]\n",
    "\n",
    "for j in range(N):\n",
    "    for i  in range(N):\n",
    "        if j%2 == 0 or i%2 == 0:\n",
    "            pattern[j][i] = ' x'\n",
    "\n",
    "for row in pattern:\n",
    "    print(''.join(row))"
   ]
  },
  {
   "cell_type": "markdown",
   "metadata": {},
   "source": [
    "#### 3.1)\n",
    "\n",
    "```\n",
    "N = 10\n",
    "\n",
    " x x x x x x x x x x\n",
    " x o o o o o o o o x\n",
    " x o o o o o o o o x\n",
    " x o o o o o o o o x\n",
    " x o o o o o o o o x\n",
    " x o o o o o o o o x\n",
    " x o o o o o o o o x\n",
    " x o o o o o o o o x\n",
    " x o o o o o o o o x\n",
    " x x x x x x x x x x\n",
    "```"
   ]
  },
  {
   "cell_type": "code",
   "execution_count": 47,
   "metadata": {},
   "outputs": [
    {
     "name": "stdout",
     "output_type": "stream",
     "text": [
      " x x x x x x x x x x\n",
      " x o o o o o o o o x\n",
      " x o o o o o o o o x\n",
      " x o o o o o o o o x\n",
      " x o o o o o o o o x\n",
      " x o o o o o o o o x\n",
      " x o o o o o o o o x\n",
      " x o o o o o o o o x\n",
      " x o o o o o o o o x\n",
      " x x x x x x x x x x\n"
     ]
    }
   ],
   "source": [
    "N = 10\n",
    "pattern = [[' o' for x in range(N)] for y in range(N)]\n",
    "\n",
    "for j in range(N):\n",
    "    for i  in range(N):\n",
    "        if j< 1 or i<1 or j>8 or i>8:\n",
    "            pattern[j][i] = ' x'\n",
    "\n",
    "for row in pattern:\n",
    "    print(''.join(row))"
   ]
  },
  {
   "cell_type": "markdown",
   "metadata": {},
   "source": [
    "#### 3.2)\n",
    "\n",
    "```\n",
    "N = 9\n",
    "\n",
    " x o o o o o o o x\n",
    " o x o o o o o x o\n",
    " o o x o o o x o o\n",
    " o o o x o x o o o\n",
    " o o o o x o o o o\n",
    " o o o x o x o o o\n",
    " o o x o o o x o o\n",
    " o x o o o o o x o\n",
    " x o o o o o o o x\n",
    " \n",
    "N = 10\n",
    "\n",
    " x o o o o o o o o x\n",
    " o x o o o o o o x o\n",
    " o o x o o o o x o o\n",
    " o o o x o o x o o o\n",
    " o o o o x x o o o o\n",
    " o o o o x x o o o o\n",
    " o o o x o o x o o o\n",
    " o o x o o o o x o o\n",
    " o x o o o o o o x o\n",
    " x o o o o o o o o x\n",
    "\n",
    "\n",
    "```"
   ]
  },
  {
   "cell_type": "code",
   "execution_count": 85,
   "metadata": {},
   "outputs": [
    {
     "name": "stdout",
     "output_type": "stream",
     "text": [
      " x o o o o o o o x\n",
      " o x o o o o o x o\n",
      " o o x o o o x o o\n",
      " o o o x o x o o o\n",
      " o o o o x o o o o\n",
      " o o o x o x o o o\n",
      " o o x o o o x o o\n",
      " o x o o o o o x o\n",
      " x o o o o o o o x\n"
     ]
    }
   ],
   "source": [
    "N = 9\n",
    "pattern = [[' o' for x in range(N)] for y in range(N)]\n",
    "\n",
    "for j in range(N):\n",
    "    for i  in range(N):\n",
    "        if i==j or i+j==8:\n",
    "            pattern[j][i] = ' x'\n",
    "\n",
    "for row in pattern:\n",
    "    print(''.join(row))"
   ]
  },
  {
   "cell_type": "code",
   "execution_count": 86,
   "metadata": {},
   "outputs": [
    {
     "name": "stdout",
     "output_type": "stream",
     "text": [
      " x o o o o o o o o x\n",
      " o x o o o o o o x o\n",
      " o o x o o o o x o o\n",
      " o o o x o o x o o o\n",
      " o o o o x x o o o o\n",
      " o o o o x x o o o o\n",
      " o o o x o o x o o o\n",
      " o o x o o o o x o o\n",
      " o x o o o o o o x o\n",
      " x o o o o o o o o x\n"
     ]
    }
   ],
   "source": [
    "N = 10\n",
    "pattern = [[' o' for x in range(N)] for y in range(N)]\n",
    "\n",
    "for j in range(N):\n",
    "    for i  in range(N):\n",
    "        if i==j or i+j==9:\n",
    "            pattern[j][i] = ' x'\n",
    "\n",
    "for row in pattern:\n",
    "    print(''.join(row))"
   ]
  },
  {
   "cell_type": "markdown",
   "metadata": {},
   "source": [
    "#### 3.3)\n",
    "\n",
    "```\n",
    "N = 10\n",
    "\n",
    " o x o x o x o x o x\n",
    " x o x o x o x o x o\n",
    " o x o x o x o x o x\n",
    " x o x o x o x o x o\n",
    " o x o x o x o x o x\n",
    " x o x o x o x o x o\n",
    " o x o x o x o x o x\n",
    " x o x o x o x o x o\n",
    " o x o x o x o x o x\n",
    " x o x o x o x o x o\n",
    "\n",
    "```"
   ]
  },
  {
   "cell_type": "code",
   "execution_count": 48,
   "metadata": {},
   "outputs": [
    {
     "name": "stdout",
     "output_type": "stream",
     "text": [
      " o x o x o x o x o x\n",
      " x o x o x o x o x o\n",
      " o x o x o x o x o x\n",
      " x o x o x o x o x o\n",
      " o x o x o x o x o x\n",
      " x o x o x o x o x o\n",
      " o x o x o x o x o x\n",
      " x o x o x o x o x o\n",
      " o x o x o x o x o x\n",
      " x o x o x o x o x o\n"
     ]
    }
   ],
   "source": [
    "N = 10\n",
    "pattern = [[' o' for x in range(N)] for y in range(N)]\n",
    "\n",
    "for j in range(N):\n",
    "    for i  in range(N):\n",
    "        if (j%2==0 and i%2>0) or (j%2>0 and i%2==0):\n",
    "            pattern[j][i] = ' x'\n",
    "\n",
    "for row in pattern:\n",
    "    print(''.join(row))"
   ]
  },
  {
   "cell_type": "markdown",
   "metadata": {},
   "source": [
    "#### 3.4)\n",
    "\n",
    "```\n",
    "N = 9\n",
    " x x x x x x x x x\n",
    " x x x x o x x x x\n",
    " x x x o o o x x x\n",
    " x x o o o o o x x\n",
    " x o o o o o o o x\n",
    " x x o o o o o x x\n",
    " x x x o o o x x x\n",
    " x x x x o x x x x\n",
    " x x x x x x x x x\n",
    "\n",
    "\n",
    "N = 10\n",
    "\n",
    " x x x x x x x x x x\n",
    " x x x x o o x x x x\n",
    " x x x o o o o x x x\n",
    " x x o o o o o o x x\n",
    " x o o o o o o o o x\n",
    " x o o o o o o o o x\n",
    " x x o o o o o o x x\n",
    " x x x o o o o x x x\n",
    " x x x x o o x x x x\n",
    " x x x x x x x x x x\n",
    "```"
   ]
  },
  {
   "cell_type": "code",
   "execution_count": 66,
   "metadata": {},
   "outputs": [
    {
     "name": "stdout",
     "output_type": "stream",
     "text": [
      " x x x x x x x x x\n",
      " x x x x o x x x x\n",
      " x x x o o o x x x\n",
      " x x o o o o o x x\n",
      " x o o o o o o o x\n",
      " x x o o o o o x x\n",
      " x x x o o o x x x\n",
      " x x x x o x x x x\n",
      " x x x x x x x x x\n"
     ]
    }
   ],
   "source": [
    "N = 9\n",
    "pattern = [[' x' for o in range(N)] for y in range(N)]\n",
    "\n",
    "for j in range(N):\n",
    "    for i  in range(N):\n",
    "        if (i+j==5 and i<5 and j<5)or(i+j==6 and i<5 and j<5)or(i+j==7 and i<6 and j<6) or (i+j==8 and i<6 and j<6) or (i+j==9 and i<7 and j<7) or(i+j==10 and i<7 and j<7) or (i+j==11 and i<8 and j<8):\n",
    "            pattern[j][i] = ' o'\n",
    "\n",
    "for row in pattern:\n",
    "    print(''.join(row))"
   ]
  },
  {
   "cell_type": "code",
   "execution_count": 78,
   "metadata": {},
   "outputs": [
    {
     "name": "stdout",
     "output_type": "stream",
     "text": [
      " x x x x x x x x x x\n",
      " x x x x o o x x x x\n",
      " x x x o o o o x x x\n",
      " x x o o o o o o x x\n",
      " x o o o o o o o o x\n",
      " x o o o o o o o o x\n",
      " x x o o o o o o x x\n",
      " x x x o o o o x x x\n",
      " x x x x o o x x x x\n",
      " x x x x x x x x x x\n"
     ]
    }
   ],
   "source": [
    "N = 10\n",
    "pattern = [[' x' for o in range(N)] for y in range(N)]\n",
    "\n",
    "for j in range(N):\n",
    "    for i  in range(N):\n",
    "        if (i+j==5 and i<5 and j<5)or(i+j==6 and i<6 and j<6)or(i+j==7 and i<6 and j<6) or (i+j==8 and i<7 and j<7) or (i+j==9 and i<7 and j<7) or(i+j==10 and i<8 and j<8) or (i+j==11 and i<8 and j<8)or(i+j==12 and i<9 and j<9)or(i+j==13 and i<9 and j<9):\n",
    "            pattern[j][i] = ' o'\n",
    "\n",
    "for row in pattern:\n",
    "    print(''.join(row))"
   ]
  }
 ],
 "metadata": {
  "kernelspec": {
   "display_name": "Python 3",
   "language": "python",
   "name": "python3"
  }
 },
 "nbformat": 4,
 "nbformat_minor": 2
}
